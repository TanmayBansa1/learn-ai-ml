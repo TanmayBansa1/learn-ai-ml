{
 "cells": [
  {
   "cell_type": "code",
   "execution_count": null,
   "metadata": {},
   "outputs": [
    {
     "name": "stdout",
     "output_type": "stream",
     "text": [
      "Fuzzy Temperature Classification:\n",
      "5°C: Cold\n",
      "15°C: Cold (0.50) and Mild (0.50)\n",
      "25°C: Mild\n",
      "35°C: Mild (0.50) and Hot (0.50)\n",
      "45°C: Hot\n"
     ]
    }
   ],
   "source": [
    "class SimpleFuzzyLogic:\n",
    "    @staticmethod\n",
    "    def temperature_classifier(temp):\n",
    "        if temp <= 10:\n",
    "            return \"Cold\"\n",
    "        elif 10 < temp <= 20:\n",
    "            cold_degree = (20 - temp) / 10\n",
    "            mild_degree = (temp - 10) / 10\n",
    "            return f\"Cold ({cold_degree:.2f}) and Mild ({mild_degree:.2f})\"\n",
    "        elif 20 < temp <= 30:\n",
    "            return \"Mild\"\n",
    "        elif 30 < temp <= 40:\n",
    "            mild_degree = (40 - temp) / 10\n",
    "            hot_degree = (temp - 30) / 10\n",
    "            return f\"Mild ({mild_degree:.2f}) and Hot ({hot_degree:.2f})\"\n",
    "        else:\n",
    "            return \"Hot\"\n",
    "\n",
    "def main():\n",
    "    test_temperatures = [5, 15, 25, 35, 45]\n",
    "    \n",
    "    print(\"Fuzzy Temperature Classification:\")\n",
    "    for temp in test_temperatures:\n",
    "        classification = SimpleFuzzyLogic.temperature_classifier(temp)\n",
    "        print(f\"{temp}°C: {classification}\")\n",
    "\n",
    "if __name__ == \"__main__\":\n",
    "    main()"
   ]
  }
 ],
 "metadata": {
  "kernelspec": {
   "display_name": "Python 3",
   "language": "python",
   "name": "python3"
  },
  "language_info": {
   "codemirror_mode": {
    "name": "ipython",
    "version": 3
   },
   "file_extension": ".py",
   "mimetype": "text/x-python",
   "name": "python",
   "nbconvert_exporter": "python",
   "pygments_lexer": "ipython3",
   "version": "3.12.4"
  }
 },
 "nbformat": 4,
 "nbformat_minor": 2
}
