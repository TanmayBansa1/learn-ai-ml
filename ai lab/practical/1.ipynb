{
 "cells": [
  {
   "cell_type": "code",
   "execution_count": 2,
   "metadata": {},
   "outputs": [
    {
     "name": "stdout",
     "output_type": "stream",
     "text": [
      "5C : Cold\n",
      "7C : Cold\n",
      "13C : Cold (0.70) and Mild (0.30)\n",
      "15C : Cold (0.50) and Mild (0.50)\n",
      "20C : Cold (0.00) and Mild (1.00)\n",
      "25C : Mild\n",
      "29C : Mild\n",
      "35C : Mild (0.50) and Hot (0.50)\n"
     ]
    }
   ],
   "source": [
    "class SimpleFuzzyLogic1:\n",
    "    @staticmethod\n",
    "    def temperature_classifier(temp):\n",
    "        if temp <= 10:\n",
    "            return \"Cold\"\n",
    "        elif 10 < temp <= 20:\n",
    "            cold_degree = (20 - temp) / 10\n",
    "            mild_degree = (temp - 10) / 10\n",
    "            return f\"Cold ({cold_degree:.2f}) and Mild ({mild_degree:.2f})\"\n",
    "        elif 20 < temp <= 30:\n",
    "            return \"Mild\"\n",
    "        elif 30 < temp <= 40:\n",
    "            mild_degree = (40 - temp) / 10\n",
    "            hot_degree = (temp - 30) / 10\n",
    "            return f\"Mild ({mild_degree:.2f}) and Hot ({hot_degree:.2f})\"\n",
    "        else:\n",
    "            return \"Hot\"\n",
    "\n",
    "def main():\n",
    "\n",
    "    test_temperatures1=[5,7,13,15,20,25,29,35];\n",
    "    for temp in test_temperatures1:\n",
    "        classification=SimpleFuzzyLogic1.temperature_classifier(temp)\n",
    "        print(f\"{temp}C : {classification}\")\n",
    "\n",
    "main()"
   ]
  },
  {
   "cell_type": "code",
   "execution_count": null,
   "metadata": {},
   "outputs": [],
   "source": [
    "import numpy as np\n",
    "import matplotlib.pyplot as plt\n",
    "\n",
    "# Gaussian membership function\n",
    "def gaussian_membership(x, mean, sigma):\n",
    "    return np.exp(-0.5 * ((x - mean) / sigma) ** 2)\n",
    "\n",
    "# Example usage\n",
    "x = np.linspace(-10, 10, 100)\n",
    "mean = 0\n",
    "sigma = 2\n",
    "\n",
    "membership_values = gaussian_membership(x, mean, sigma)\n",
    "\n",
    "# Plotting the membership function (optional)\n",
    "plt.plot(x, membership_values)\n",
    "plt.title(\"Gaussian Membership Function\")\n",
    "plt.xlabel(\"x\")\n",
    "plt.ylabel(\"Membership Degree\")\n",
    "plt.grid(True)\n",
    "plt.show()"
   ]
  }
 ],
 "metadata": {
  "kernelspec": {
   "display_name": "Python 3",
   "language": "python",
   "name": "python3"
  },
  "language_info": {
   "codemirror_mode": {
    "name": "ipython",
    "version": 3
   },
   "file_extension": ".py",
   "mimetype": "text/x-python",
   "name": "python",
   "nbconvert_exporter": "python",
   "pygments_lexer": "ipython3",
   "version": "3.12.4"
  }
 },
 "nbformat": 4,
 "nbformat_minor": 2
}
